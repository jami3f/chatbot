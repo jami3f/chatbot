{
 "cells": [
  {
   "cell_type": "code",
   "execution_count": 7,
   "metadata": {},
   "outputs": [
    {
     "name": "stdout",
     "output_type": "stream",
     "text": [
      "('output0003.wav', 22.838)\n"
     ]
    }
   ],
   "source": [
    "import os\n",
    "import wave\n",
    "files = os.listdir('chatbot-output')\n",
    "def get_length(file):\n",
    "    with wave.open('chatbot-output/'+file, 'rb') as f:\n",
    "        return (file, f.getnframes() / f.getframerate())\n",
    "lengths = list(map(get_length, files))\n",
    "longest = max(lengths, key=lambda x: x[1])\n",
    "print(longest)"
   ]
  }
 ],
 "metadata": {
  "kernelspec": {
   "display_name": "tts",
   "language": "python",
   "name": "python3"
  },
  "language_info": {
   "codemirror_mode": {
    "name": "ipython",
    "version": 3
   },
   "file_extension": ".py",
   "mimetype": "text/x-python",
   "name": "python",
   "nbconvert_exporter": "python",
   "pygments_lexer": "ipython3",
   "version": "3.10.13"
  }
 },
 "nbformat": 4,
 "nbformat_minor": 2
}
